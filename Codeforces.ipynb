{
 "cells": [
  {
   "cell_type": "code",
   "execution_count": 3,
   "id": "e1cd7b3f",
   "metadata": {},
   "outputs": [
    {
     "name": "stdout",
     "output_type": "stream",
     "text": [
      "NO\n"
     ]
    }
   ],
   "source": [
    "\n",
    "def solve(weight):\n",
    "    if weight > 2 and weight % 2 ==0:\n",
    "        print (\"YES\")\n",
    "    else:\n",
    "        print (\"NO\")\n",
    "w = int(input())\n",
    "solve(w)\n"
   ]
  },
  {
   "cell_type": "code",
   "execution_count": 4,
   "id": "f04bfb99",
   "metadata": {},
   "outputs": [
    {
     "name": "stdout",
     "output_type": "stream",
     "text": [
      "a25e\n"
     ]
    }
   ],
   "source": [
    "a = int(input())\n",
    "for i in range (a):\n",
    "    s = input()\n",
    "    l = len(s)\n",
    "    if len(s) <= 10:\n",
    "        print (s)\n",
    "        \n",
    "    else:\n",
    "        print (s[0],len(s)-2,s[len(s)-1],sep=\"\")"
   ]
  },
  {
   "cell_type": "code",
   "execution_count": null,
   "id": "edfaa151",
   "metadata": {},
   "outputs": [],
   "source": [
    "'''n = int(input())\n",
    "for i in range(n):\n",
    "    st = input()\n",
    "    l = len(st)\n",
    "    if l <= 10:\n",
    "        print(st)\n",
    "    else:\n",
    "        print(st[0], l - 2, st[l - 1], sep=\"\")'''"
   ]
  },
  {
   "cell_type": "code",
   "execution_count": 9,
   "id": "a51e69e2",
   "metadata": {},
   "outputs": [
    {
     "name": "stdout",
     "output_type": "stream",
     "text": [
      "2\n"
     ]
    }
   ],
   "source": [
    "a = int(input())\n",
    "count = 0\n",
    "for i in range(a):\n",
    "    a,b,c = map(int, input().split(' '))\n",
    "    if a + b + c >=2:\n",
    "        count +=1\n",
    "print (count)"
   ]
  },
  {
   "cell_type": "markdown",
   "id": "9a06bfea",
   "metadata": {},
   "source": [
    "Số output thỏa điều kiện sau:\n",
    "n : số người tham gia\n",
    "k: bằng hoặc cao hơn vị trí thứ k sẽ qua vòng\n",
    "a[i] với i theo n\n",
    "Output là số người có thể qua vòng\n",
    "input : \n",
    "8 5\n",
    "10 9 8 7 7 7 5 5\n",
    "output: 6\n",
    "input:\n",
    "4 2\n",
    "0 0 0 0\n",
    "output:\n",
    "0"
   ]
  },
  {
   "cell_type": "code",
   "execution_count": 21,
   "id": "bba826f7",
   "metadata": {},
   "outputs": [
    {
     "name": "stdout",
     "output_type": "stream",
     "text": [
      "6\n"
     ]
    }
   ],
   "source": [
    "n,k = map(int, input().split(' '))\n",
    "count = 0\n",
    "arr = [int(x) for x in input().split()]\n",
    "for x in arr:\n",
    "    if x > 0 and x >= arr[k-1]:\n",
    "        count +=1;\n",
    "print (count)"
   ]
  },
  {
   "cell_type": "code",
   "execution_count": 11,
   "id": "958558ae",
   "metadata": {},
   "outputs": [
    {
     "name": "stdout",
     "output_type": "stream",
     "text": [
      "6\n"
     ]
    }
   ],
   "source": [
    "'''n, k = map(int, input().split())\n",
    "arr = [int(x) for x in input().split()]\n",
    "next_round = [x for x in arr if (x > 0 and x >= arr[k - 1])]\n",
    "print(len(next_round))'''"
   ]
  }
 ],
 "metadata": {
  "kernelspec": {
   "display_name": "Python 3.9.12 ('base')",
   "language": "python",
   "name": "python3"
  },
  "language_info": {
   "codemirror_mode": {
    "name": "ipython",
    "version": 3
   },
   "file_extension": ".py",
   "mimetype": "text/x-python",
   "name": "python",
   "nbconvert_exporter": "python",
   "pygments_lexer": "ipython3",
   "version": "3.9.12"
  },
  "vscode": {
   "interpreter": {
    "hash": "ad2bdc8ecc057115af97d19610ffacc2b4e99fae6737bb82f5d7fb13d2f2c186"
   }
  }
 },
 "nbformat": 4,
 "nbformat_minor": 5
}
